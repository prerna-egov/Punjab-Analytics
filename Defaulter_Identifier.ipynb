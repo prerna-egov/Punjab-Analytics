{
 "cells": [
  {
   "cell_type": "code",
   "execution_count": 30,
   "id": "2fa0489c-f35b-46da-9736-7008e955833d",
   "metadata": {},
   "outputs": [
    {
     "name": "stdout",
     "output_type": "stream",
     "text": [
      "       Property ID IsDefaulter\n",
      "0   PT-1014-052724         Yes\n",
      "1  PT-1014-1000000          No\n",
      "2  PT-1014-1000004          No\n",
      "3  PT-1014-1000006          No\n",
      "4  PT-1014-1000007          No\n"
     ]
    }
   ],
   "source": [
    "import pandas as pd\n",
    "\n",
    "# Load CSV\n",
    "phagwara_report = pd.read_csv('/home/prerna/Punjab/PUNJAB/Punjab_Data_Analysis_Phagwara_PDC_FINAL.csv')\n",
    "\n",
    "# Convert Creation date to datetime\n",
    "# phagwara_report[\"Creation date\"] = pd.to_datetime(\n",
    "#     phagwara_report[\"Creation date\"], format=\"%d-%m-%y\", errors=\"coerce\"\n",
    "# )\n",
    "\n",
    "# All FY columns in sorted order\n",
    "fy_cols = [col for col in phagwara_report.columns if \"-\" in col]\n",
    "fy_cols = sorted(fy_cols, key=lambda x: int(x.split(\"-\")[0]))\n",
    "\n",
    "# Function to map creation date -> FY string\n",
    "def get_fy(date):\n",
    "    if pd.isna(date):\n",
    "        return None\n",
    "    year = date.year\n",
    "    month = date.month\n",
    "    if month >= 4:  # April and later → new FY\n",
    "        return f\"{year}-{str(year+1)[-2:]}\"\n",
    "    else:           # Jan–Mar → previous FY\n",
    "        return f\"{year-1}-{str(year)[-2:]}\"\n",
    "\n",
    "# Defaulter check\n",
    "def check_defaulter(row):\n",
    "    # creation_fy = get_fy(row[\"Creation date\"])\n",
    "    \n",
    "    # Determine starting FY (whichever is later: 2019-20 or creation FY)\n",
    "    start_fy = \"2019-20\"\n",
    "    \n",
    "    # if start_fy not in fy_cols:\n",
    "    #     return \"No\"  # Creation before available FY data\n",
    "    \n",
    "    start_idx = fy_cols.index(start_fy)\n",
    "    for col in fy_cols[start_idx:]:\n",
    "        val = str(row[col]).strip()\n",
    "        if val == 'No' or val == 'Demand not generated, hence not paid':\n",
    "            return \"Yes\"\n",
    "        # elif val != \"Yes\":  # anything other than Yes counts as default\n",
    "        #     return \"Yes\"\n",
    "    return \"No\"\n",
    "\n",
    "# Apply logic\n",
    "phagwara_report[\"IsDefaulter\"] = phagwara_report.apply(check_defaulter, axis=1)\n",
    "\n",
    "print(phagwara_report[[\"Property ID\", \"IsDefaulter\"]].head())\n",
    "\n",
    "phagwara_report.to_csv('Phagwara_updated_defaulter_report_PDC_4.csv', index=False)\n"
   ]
  },
  {
   "cell_type": "code",
   "execution_count": 31,
   "id": "04f65939-d635-4e08-9b4d-346d32c28d11",
   "metadata": {},
   "outputs": [],
   "source": [
    "import pandas as pd\n",
    "\n",
    "egov_report = pd.read_csv(\"/home/prerna/Punjab/PUNJAB/Phagwara_updated_defaulter_report_egov_2.csv\")\n",
    "pdc_report = pd.read_csv(\"/home/prerna/Punjab/PUNJAB/Phagwara_updated_defaulter_report_PDC_4.csv\")\n",
    "\n",
    "egov_report = egov_report[egov_report['IsDefaulter'] == 'Yes'].copy()\n",
    "pdc_report = pdc_report[pdc_report['IsDefaulter'] == 'Yes'].copy()"
   ]
  },
  {
   "cell_type": "code",
   "execution_count": 32,
   "id": "30f95da1-867e-4667-9c9c-d9cf1ec37fdf",
   "metadata": {},
   "outputs": [
    {
     "name": "stdout",
     "output_type": "stream",
     "text": [
      "Count in both: 9350\n",
      "Count in PDC only: 0\n",
      "Count in EGOV only: 841\n"
     ]
    }
   ],
   "source": [
    "# Convert to sets\n",
    "egov_ids = set(egov_report[\"Property ID\"])\n",
    "pdc_ids = set(pdc_report[\"Property ID\"])\n",
    "\n",
    "# Intersection → in both\n",
    "common_ids = egov_ids & pdc_ids\n",
    "print(\"Count in both:\", len(common_ids))\n",
    "\n",
    "# PDC but not in EGOV\n",
    "pdc_not_in_egov = pdc_ids - egov_ids\n",
    "print(\"Count in PDC only:\", len(pdc_not_in_egov))\n",
    "\n",
    "# EGOV but not in PDC\n",
    "egov_not_in_pdc = egov_ids - pdc_ids\n",
    "print(\"Count in EGOV only:\", len(egov_not_in_pdc))\n"
   ]
  },
  {
   "cell_type": "code",
   "execution_count": 22,
   "id": "37bb2531-c87a-4349-93aa-5b98bf9ceadf",
   "metadata": {},
   "outputs": [],
   "source": [
    "# In both\n",
    "df_common = egov_report[egov_report[\"Property ID\"].isin(common_ids)]\n",
    "\n",
    "# PDC only\n",
    "df_pdc_only = pdc_report[pdc_report[\"Property ID\"].isin(pdc_not_in_egov)]\n",
    "\n",
    "# EGOV only\n",
    "df_egov_only = egov_report[egov_report[\"Property ID\"].isin(egov_not_in_pdc)]\n"
   ]
  },
  {
   "cell_type": "code",
   "execution_count": 23,
   "id": "66d8bd15-4bf1-4695-8a29-eedb6f51962d",
   "metadata": {},
   "outputs": [
    {
     "name": "stdout",
     "output_type": "stream",
     "text": [
      "           Property ID                                           Owner Id  \\\n",
      "1187   PT-1014-1096381           ['38865bb0-34ec-4ed2-beb4-0b2521de750a']   \n",
      "2359   PT-1014-1251362           ['9eb179ef-dda0-41f1-b84a-195329058086']   \n",
      "15925   PT-1014-997131  ['38b6e47b-813d-441d-8a3c-98d46c122684', 'ca94...   \n",
      "\n",
      "         Locality  Plot size          Propertyusagetype 2013-14 2014-15  \\\n",
      "1187   ['PLC103']     150.00                RESIDENTIAL     NaN     NaN   \n",
      "2359    ['PLC94']      27.50  NONRESIDENTIAL.COMMERCIAL     NaN     NaN   \n",
      "15925   ['PLC68']     144.45  NONRESIDENTIAL.COMMERCIAL     NaN     NaN   \n",
      "\n",
      "      2015-16 2016-17 2017-18 2018-19 2019-20 2020-21 2021-22 2022-23 2023-24  \\\n",
      "1187      NaN     NaN     NaN     NaN     NaN     Yes     Yes     Yes      No   \n",
      "2359      NaN     NaN     NaN     NaN     NaN     Yes     Yes     Yes     Yes   \n",
      "15925     NaN     NaN     Yes     Yes     Yes     Yes     Yes     Yes     Yes   \n",
      "\n",
      "      2024-25 IsDefaulter  \n",
      "1187       No         Yes  \n",
      "2359       No         Yes  \n",
      "15925      No         Yes  \n"
     ]
    }
   ],
   "source": [
    "print(df_pdc_only)"
   ]
  },
  {
   "cell_type": "code",
   "execution_count": 18,
   "id": "ba66122a-ccec-4f88-9237-f05f46eabd8d",
   "metadata": {},
   "outputs": [],
   "source": [
    "df_pdc_only.to_csv(\"pdc_only_defaulters.csv\", index=False)"
   ]
  },
  {
   "cell_type": "code",
   "execution_count": null,
   "id": "887ae902-86c8-4757-8453-68932d32abf1",
   "metadata": {},
   "outputs": [],
   "source": []
  },
  {
   "cell_type": "code",
   "execution_count": null,
   "id": "a5496f6d-0957-49f1-b110-98d17a24f220",
   "metadata": {},
   "outputs": [],
   "source": []
  }
 ],
 "metadata": {
  "kernelspec": {
   "display_name": "Python 3 (ipykernel)",
   "language": "python",
   "name": "python3"
  },
  "language_info": {
   "codemirror_mode": {
    "name": "ipython",
    "version": 3
   },
   "file_extension": ".py",
   "mimetype": "text/x-python",
   "name": "python",
   "nbconvert_exporter": "python",
   "pygments_lexer": "ipython3",
   "version": "3.12.3"
  }
 },
 "nbformat": 4,
 "nbformat_minor": 5
}
