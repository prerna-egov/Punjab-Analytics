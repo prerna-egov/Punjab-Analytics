{
 "cells": [
  {
   "cell_type": "code",
   "execution_count": 24,
   "id": "818d90f6-dbc8-4ccf-aabf-a6422ca2f27d",
   "metadata": {},
   "outputs": [
    {
     "name": "stdout",
     "output_type": "stream",
     "text": [
      "(46837, 8)\n",
      "Max createdtime: 1753613595012\n",
      "46837\n"
     ]
    }
   ],
   "source": [
    "import os\n",
    "import pandas as pd\n",
    "from datetime import datetime\n",
    "import json\n",
    "import gc\n",
    "\n",
    "# read active properties & needed columns\n",
    "property_df = pd.read_csv(\n",
    "    '/home/prerna/Punjab/punjab-data-prod-analysis/kharar/eg_pt_property.csv',\n",
    "    usecols=['id', 'propertyid', 'tenantid', 'createdtime', 'additionaldetails', 'ownershipcategory', 'status', 'usagecategory']\n",
    ")\n",
    "property_df = property_df[property_df['status'] == 'ACTIVE'].copy()\n",
    "\n",
    "print(property_df.shape)\n",
    "\n",
    "max_createdtime = property_df['createdtime'].max()\n",
    "print(\"Max createdtime:\", max_createdtime)\n",
    "\n",
    "print(property_df['propertyid'].nunique())"
   ]
  },
  {
   "cell_type": "code",
   "execution_count": 25,
   "id": "a2377ea2-80d6-4ca3-9dae-ed61b24f65e7",
   "metadata": {},
   "outputs": [
    {
     "name": "stdout",
     "output_type": "stream",
     "text": [
      "(46834, 23)\n"
     ]
    }
   ],
   "source": [
    "property_new_df = pd.read_csv('/home/prerna/Downloads/property_data_till_28th.csv')\n",
    "print(property_new_df.shape)"
   ]
  },
  {
   "cell_type": "code",
   "execution_count": 26,
   "id": "f4dc91ac-29ce-48b7-87f3-3bb74252192c",
   "metadata": {},
   "outputs": [
    {
     "name": "stdout",
     "output_type": "stream",
     "text": [
      "(46834, 23)\n",
      "(46837, 8)\n",
      "Number of missing property IDs: 3\n",
      "Missing property IDs: {'PT-1503-1460213', 'PT-1503-1213561', 'PT-1503-1219728'}\n"
     ]
    }
   ],
   "source": [
    "print(property_new_df.shape)\n",
    "print(property_df.shape)\n",
    "# Get unique property IDs from both DataFrames\n",
    "old_property_ids = set(property_df['propertyid'])\n",
    "new_property_ids = set(property_new_df['propertyid'])\n",
    "\n",
    "# Find IDs present in property_df but not in property_new_df\n",
    "missing_property_ids = old_property_ids - new_property_ids\n",
    "\n",
    "print(f\"Number of missing property IDs: {len(missing_property_ids)}\")\n",
    "print(\"Missing property IDs:\", missing_property_ids)"
   ]
  },
  {
   "cell_type": "code",
   "execution_count": 10,
   "id": "7f578359-320d-49bf-972c-3762687f8515",
   "metadata": {},
   "outputs": [
    {
     "name": "stdout",
     "output_type": "stream",
     "text": [
      "Empty DataFrame\n",
      "Columns: [id, propertyid, tenantid, surveyid, accountid, oldpropertyid, status, acknowldgementnumber, propertytype, ownershipcategory, usagecategory, creationreason, nooffloors, landarea, superbuiltuparea, linkedproperties, source, channel, createdby, lastmodifiedby, createdtime, lastmodifiedtime, additionaldetails]\n",
      "Index: []\n",
      "\n",
      "[0 rows x 23 columns]\n",
      "Number of fully empty rows: 0\n"
     ]
    }
   ],
   "source": [
    "empty_rows = property_new_df[property_new_df.isnull().all(axis=1)]\n",
    "print(empty_rows)\n",
    "print(f\"Number of fully empty rows: {len(empty_rows)}\")"
   ]
  },
  {
   "cell_type": "code",
   "execution_count": 9,
   "id": "e59ad347-6a1f-427b-bc21-4034f611120d",
   "metadata": {},
   "outputs": [
    {
     "name": "stdout",
     "output_type": "stream",
     "text": [
      "Empty DataFrame\n",
      "Columns: [id, propertyid, tenantid, surveyid, accountid, oldpropertyid, status, acknowldgementnumber, propertytype, ownershipcategory, usagecategory, creationreason, nooffloors, landarea, superbuiltuparea, linkedproperties, source, channel, createdby, lastmodifiedby, createdtime, lastmodifiedtime, additionaldetails]\n",
      "Index: []\n",
      "\n",
      "[0 rows x 23 columns]\n",
      "Number of duplicate header rows: 0\n"
     ]
    }
   ],
   "source": [
    "# print(property_new_df.tail(10))\n",
    "\n",
    "header_rows = property_new_df[property_new_df['propertyid'] == 'propertyid']\n",
    "print(header_rows)\n",
    "print(f\"Number of duplicate header rows: {len(header_rows)}\")\n"
   ]
  },
  {
   "cell_type": "code",
   "execution_count": 11,
   "id": "6b7a1054-ba92-4083-9e74-8ffd979d8063",
   "metadata": {},
   "outputs": [],
   "source": [
    "property_new_df.to_csv('property_new.csv', index = False)"
   ]
  },
  {
   "cell_type": "code",
   "execution_count": null,
   "id": "39dacfd2-84cd-4a7c-be3a-10db2e075856",
   "metadata": {},
   "outputs": [],
   "source": [
    "# Get unique property IDs from both DataFrames\n",
    "old_property_ids = set(property_df['propertyid'])\n",
    "new_property_ids = set(property_new_df['propertyid'])\n",
    "\n",
    "# Find IDs present in property_df but not in property_new_df\n",
    "missing_property_ids = old_property_ids - new_property_ids\n",
    "\n",
    "print(f\"Number of missing property IDs: {len(missing_property_ids)}\")\n",
    "print(\"Missing property IDs:\", missing_property_ids)"
   ]
  },
  {
   "cell_type": "code",
   "execution_count": 15,
   "id": "0edd2033-5f66-49a7-85e2-fb30702b773f",
   "metadata": {},
   "outputs": [
    {
     "name": "stdout",
     "output_type": "stream",
     "text": [
      "(46837, 18)\n",
      "46837\n"
     ]
    }
   ],
   "source": [
    "kharar_df = pd.read_csv('/home/prerna/Downloads/kharar_pt.csv')\n",
    "print(kharar_df.shape)\n",
    "\n",
    "print(kharar_df['Property ID'].nunique())"
   ]
  },
  {
   "cell_type": "code",
   "execution_count": 20,
   "id": "330471d5-34e0-4a46-8695-0713363ff169",
   "metadata": {},
   "outputs": [
    {
     "name": "stdout",
     "output_type": "stream",
     "text": [
      "(46834, 23)\n"
     ]
    },
    {
     "ename": "AttributeError",
     "evalue": "'DataFrame' object has no attribute 'write_csv'",
     "output_type": "error",
     "traceback": [
      "\u001b[31m---------------------------------------------------------------------------\u001b[39m",
      "\u001b[31mAttributeError\u001b[39m                            Traceback (most recent call last)",
      "\u001b[32m/tmp/ipykernel_503850/2257709363.py\u001b[39m in \u001b[36m?\u001b[39m\u001b[34m()\u001b[39m\n\u001b[32m      3\u001b[39m     \u001b[33m'/home/prerna/Downloads/property_data_till_28th.csv'\u001b[39m\n\u001b[32m      4\u001b[39m )\n\u001b[32m      5\u001b[39m print(property_df.shape)\n\u001b[32m      6\u001b[39m \n\u001b[32m----> \u001b[39m\u001b[32m7\u001b[39m property_df.write_csv(\u001b[33m'polar_output.csv'\u001b[39m)\n",
      "\u001b[32m~/Health/extras/.venv/lib/python3.12/site-packages/pandas/core/generic.py\u001b[39m in \u001b[36m?\u001b[39m\u001b[34m(self, name)\u001b[39m\n\u001b[32m   6295\u001b[39m             \u001b[38;5;28;01mand\u001b[39;00m name \u001b[38;5;28;01mnot\u001b[39;00m \u001b[38;5;28;01min\u001b[39;00m self._accessors\n\u001b[32m   6296\u001b[39m             \u001b[38;5;28;01mand\u001b[39;00m self._info_axis._can_hold_identifiers_and_holds_name(name)\n\u001b[32m   6297\u001b[39m         ):\n\u001b[32m   6298\u001b[39m             \u001b[38;5;28;01mreturn\u001b[39;00m self[name]\n\u001b[32m-> \u001b[39m\u001b[32m6299\u001b[39m         \u001b[38;5;28;01mreturn\u001b[39;00m object.__getattribute__(self, name)\n",
      "\u001b[31mAttributeError\u001b[39m: 'DataFrame' object has no attribute 'write_csv'"
     ]
    }
   ],
   "source": [
    "import polars as pl\n",
    "property_df = pd.read_csv(\n",
    "    '/home/prerna/Downloads/property_data_till_28th.csv'\n",
    ")\n",
    "print(property_df.shape)\n",
    "\n",
    "property_df.write_csv('polar_output.csv')"
   ]
  }
 ],
 "metadata": {
  "kernelspec": {
   "display_name": "Python 3 (ipykernel)",
   "language": "python",
   "name": "python3"
  },
  "language_info": {
   "codemirror_mode": {
    "name": "ipython",
    "version": 3
   },
   "file_extension": ".py",
   "mimetype": "text/x-python",
   "name": "python",
   "nbconvert_exporter": "python",
   "pygments_lexer": "ipython3",
   "version": "3.12.3"
  }
 },
 "nbformat": 4,
 "nbformat_minor": 5
}
